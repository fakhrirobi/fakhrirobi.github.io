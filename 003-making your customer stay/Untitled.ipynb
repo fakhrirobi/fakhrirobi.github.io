{
 "cells": [
  {
   "cell_type": "code",
   "execution_count": null,
   "id": "5d330016-1874-477b-b3f9-05afaf0c77ac",
   "metadata": {},
   "outputs": [],
   "source": []
  }
 ],
 "metadata": {
  "kernelspec": {
   "display_name": "Python 3 (ipykernel)",
   "language": "python",
   "name": "python3"
  },
  "language_info": {
   "codemirror_mode": {
    "name": "ipython",
    "version": 3
   },
   "file_extension": ".py",
   "mimetype": "text/x-python",
   "name": "python",
   "nbconvert_exporter": "python",
   "pygments_lexer": "ipython3",
   "version": "3.11.5"
  }
 },
 "nbformat": 4,
 "nbformat_minor": 5
}
